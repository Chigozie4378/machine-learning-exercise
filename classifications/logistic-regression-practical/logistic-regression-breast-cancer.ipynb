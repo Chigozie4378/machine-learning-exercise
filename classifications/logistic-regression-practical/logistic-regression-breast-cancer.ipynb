{
 "cells": [
  {
   "cell_type": "code",
   "execution_count": 22,
   "id": "45ea20b5",
   "metadata": {},
   "outputs": [],
   "source": [
    "import pandas as pd\n",
    "import numpy as np"
   ]
  },
  {
   "cell_type": "code",
   "execution_count": 23,
   "id": "9bbcad80",
   "metadata": {},
   "outputs": [],
   "source": [
    "dataset = pd.read_csv(\"breast_cancer.csv\")\n",
    "X = dataset.iloc[:,1:-1].values\n",
    "y = dataset.iloc[:,-1].values"
   ]
  },
  {
   "cell_type": "code",
   "execution_count": 24,
   "id": "dbd8f52e",
   "metadata": {},
   "outputs": [],
   "source": [
    "from sklearn.model_selection import train_test_split\n",
    "X_train,X_test,y_train,y_test = train_test_split(X,y,test_size=0.2,random_state = 0)"
   ]
  },
  {
   "cell_type": "code",
   "execution_count": 25,
   "id": "9253adc6",
   "metadata": {},
   "outputs": [
    {
     "data": {
      "text/plain": [
       "LogisticRegression(random_state=0)"
      ]
     },
     "execution_count": 25,
     "metadata": {},
     "output_type": "execute_result"
    }
   ],
   "source": [
    "from sklearn.linear_model import LogisticRegression\n",
    "classifier = LogisticRegression(random_state = 0)\n",
    "classifier.fit(X_train,y_train)\n"
   ]
  },
  {
   "cell_type": "code",
   "execution_count": 26,
   "id": "bae3ba6b",
   "metadata": {},
   "outputs": [],
   "source": [
    "y_pred = classifier.predict(X_test)"
   ]
  },
  {
   "cell_type": "code",
   "execution_count": 27,
   "id": "3b231d85",
   "metadata": {},
   "outputs": [
    {
     "data": {
      "text/plain": [
       "array([[2, 2],\n",
       "       [2, 2],\n",
       "       [4, 4],\n",
       "       [4, 4],\n",
       "       [2, 2],\n",
       "       [2, 2],\n",
       "       [2, 2],\n",
       "       [4, 4],\n",
       "       [2, 2],\n",
       "       [2, 2],\n",
       "       [4, 4],\n",
       "       [2, 2],\n",
       "       [4, 4],\n",
       "       [2, 2],\n",
       "       [2, 2],\n",
       "       [2, 2],\n",
       "       [4, 4],\n",
       "       [4, 4],\n",
       "       [4, 4],\n",
       "       [2, 2],\n",
       "       [2, 2],\n",
       "       [2, 2],\n",
       "       [4, 4],\n",
       "       [2, 2],\n",
       "       [4, 4],\n",
       "       [4, 4],\n",
       "       [2, 2],\n",
       "       [2, 2],\n",
       "       [2, 2],\n",
       "       [4, 4],\n",
       "       [2, 2],\n",
       "       [4, 4],\n",
       "       [4, 4],\n",
       "       [2, 2],\n",
       "       [2, 2],\n",
       "       [2, 2],\n",
       "       [4, 4],\n",
       "       [4, 4],\n",
       "       [2, 2],\n",
       "       [4, 4],\n",
       "       [2, 2],\n",
       "       [2, 2],\n",
       "       [2, 2],\n",
       "       [2, 2],\n",
       "       [2, 2],\n",
       "       [2, 2],\n",
       "       [2, 2],\n",
       "       [4, 4],\n",
       "       [2, 2],\n",
       "       [2, 2],\n",
       "       [4, 4],\n",
       "       [2, 2],\n",
       "       [4, 4],\n",
       "       [2, 2],\n",
       "       [2, 2],\n",
       "       [2, 2],\n",
       "       [4, 4],\n",
       "       [2, 4],\n",
       "       [2, 2],\n",
       "       [4, 4],\n",
       "       [2, 2],\n",
       "       [2, 2],\n",
       "       [2, 2],\n",
       "       [2, 2],\n",
       "       [2, 2],\n",
       "       [2, 2],\n",
       "       [2, 2],\n",
       "       [2, 2],\n",
       "       [4, 4],\n",
       "       [4, 4],\n",
       "       [2, 2],\n",
       "       [2, 2],\n",
       "       [2, 2],\n",
       "       [2, 2],\n",
       "       [2, 2],\n",
       "       [2, 2],\n",
       "       [4, 4],\n",
       "       [2, 2],\n",
       "       [2, 2],\n",
       "       [2, 2],\n",
       "       [4, 4],\n",
       "       [2, 2],\n",
       "       [4, 4],\n",
       "       [2, 2],\n",
       "       [2, 2],\n",
       "       [4, 4],\n",
       "       [2, 2],\n",
       "       [2, 4],\n",
       "       [4, 4],\n",
       "       [2, 2],\n",
       "       [4, 4],\n",
       "       [2, 2],\n",
       "       [4, 4],\n",
       "       [4, 4],\n",
       "       [4, 2],\n",
       "       [2, 4],\n",
       "       [4, 4],\n",
       "       [4, 4],\n",
       "       [4, 4],\n",
       "       [2, 2],\n",
       "       [2, 2],\n",
       "       [2, 2],\n",
       "       [4, 4],\n",
       "       [4, 4],\n",
       "       [2, 2],\n",
       "       [2, 2],\n",
       "       [4, 4],\n",
       "       [4, 2],\n",
       "       [2, 2],\n",
       "       [2, 2],\n",
       "       [4, 4],\n",
       "       [2, 2],\n",
       "       [2, 2],\n",
       "       [4, 4],\n",
       "       [2, 2],\n",
       "       [2, 2],\n",
       "       [2, 2],\n",
       "       [4, 2],\n",
       "       [2, 2],\n",
       "       [2, 2],\n",
       "       [2, 2],\n",
       "       [4, 4],\n",
       "       [2, 2],\n",
       "       [2, 2],\n",
       "       [4, 4],\n",
       "       [4, 4],\n",
       "       [2, 2],\n",
       "       [4, 4],\n",
       "       [2, 2],\n",
       "       [4, 4],\n",
       "       [2, 2],\n",
       "       [2, 2],\n",
       "       [4, 4],\n",
       "       [2, 2],\n",
       "       [2, 2],\n",
       "       [4, 4],\n",
       "       [2, 2]], dtype=int64)"
      ]
     },
     "execution_count": 27,
     "metadata": {},
     "output_type": "execute_result"
    }
   ],
   "source": [
    "np.concatenate((y_test.reshape(len(y_test),1),y_pred.reshape(len(y_pred),1)),1)"
   ]
  },
  {
   "cell_type": "code",
   "execution_count": 31,
   "id": "a87c5d01",
   "metadata": {},
   "outputs": [
    {
     "name": "stdout",
     "output_type": "stream",
     "text": [
      "[[84  3]\n",
      " [ 3 47]]\n"
     ]
    },
    {
     "data": {
      "text/plain": [
       "0.9562043795620438"
      ]
     },
     "execution_count": 31,
     "metadata": {},
     "output_type": "execute_result"
    }
   ],
   "source": [
    "from sklearn.metrics import accuracy_score, confusion_matrix\n",
    "cm = confusion_matrix(y_test,y_pred)\n",
    "print(cm)\n",
    "accuracy_score(y_test,y_pred)\n",
    "\n"
   ]
  },
  {
   "cell_type": "code",
   "execution_count": null,
   "id": "1f9a3b3e",
   "metadata": {},
   "outputs": [],
   "source": []
  }
 ],
 "metadata": {
  "kernelspec": {
   "display_name": "Python 3 (ipykernel)",
   "language": "python",
   "name": "python3"
  },
  "language_info": {
   "codemirror_mode": {
    "name": "ipython",
    "version": 3
   },
   "file_extension": ".py",
   "mimetype": "text/x-python",
   "name": "python",
   "nbconvert_exporter": "python",
   "pygments_lexer": "ipython3",
   "version": "3.9.12"
  }
 },
 "nbformat": 4,
 "nbformat_minor": 5
}
