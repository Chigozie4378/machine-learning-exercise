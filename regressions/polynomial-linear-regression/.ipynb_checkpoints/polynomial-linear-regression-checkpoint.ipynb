{
 "cells": [
  {
   "cell_type": "markdown",
   "id": "199ffb42",
   "metadata": {},
   "source": [
    "### Importing the libraries"
   ]
  },
  {
   "cell_type": "code",
   "execution_count": 31,
   "id": "f4b25a97",
   "metadata": {},
   "outputs": [],
   "source": [
    "import pandas as pd\n",
    "import numpy as np\n",
    "import matplotlib.pyplot as plt\n"
   ]
  },
  {
   "cell_type": "markdown",
   "id": "bfae3bf8",
   "metadata": {},
   "source": [
    "### Getting the dataset and featuring the independent and dependent variables"
   ]
  },
  {
   "cell_type": "code",
   "execution_count": 32,
   "id": "c8bb1391",
   "metadata": {},
   "outputs": [],
   "source": [
    "dataset = pd.read_csv(\"Position_Salaries.csv\")\n",
    "X = dataset.iloc[:,1:-1].values\n",
    "y = dataset.iloc[:,-1].values\n"
   ]
  },
  {
   "cell_type": "markdown",
   "id": "8269f746",
   "metadata": {},
   "source": [
    "### Fitting into a linear Regression model"
   ]
  },
  {
   "cell_type": "code",
   "execution_count": 33,
   "id": "084433ff",
   "metadata": {},
   "outputs": [
    {
     "data": {
      "text/plain": [
       "LinearRegression()"
      ]
     },
     "execution_count": 33,
     "metadata": {},
     "output_type": "execute_result"
    }
   ],
   "source": [
    "from sklearn.linear_model import LinearRegression\n",
    "lr1 = LinearRegression()\n",
    "lr1.fit(X,y)"
   ]
  },
  {
   "cell_type": "markdown",
   "id": "ae8dd4e9",
   "metadata": {},
   "source": [
    "### Fitting all dataset into a polynomial regression"
   ]
  },
  {
   "cell_type": "code",
   "execution_count": 34,
   "id": "a322867d",
   "metadata": {},
   "outputs": [],
   "source": [
    "from sklearn.preprocessing import PolynomialFeatures\n",
    "polynomial = PolynomialFeatures(degree=4)\n",
    "X_poly = polynomial.fit_transform(X)\n",
    "lr2 = LinearRegression()\n",
    "lr2.fit(X_poly,y)\n",
    "y_pred = lr2.predict(X_poly)"
   ]
  },
  {
   "cell_type": "markdown",
   "id": "d828af98",
   "metadata": {},
   "source": [
    "### Visualizing the linear regression model"
   ]
  },
  {
   "cell_type": "code",
   "execution_count": 35,
   "id": "9449a96a",
   "metadata": {},
   "outputs": [
    {
     "data": {
      "image/png": "[encoded data removed]",
      "text/plain": [
       "<Figure size 432x288 with 1 Axes>"
      ]
     },
     "metadata": {
      "needs_background": "light"
     },
     "output_type": "display_data"
    }
   ],
   "source": [
    "plt.scatter(X,y,color=\"red\")\n",
    "plt.plot(X,lr1.predict(X))\n",
    "plt.title(\"Viewing the linear regression\")\n",
    "plt.xlabel(\"Levels\")\n",
    "plt.ylabel(\"Salaries\")\n",
    "plt.show()"
   ]
  },
  {
   "cell_type": "markdown",
   "id": "36cd78d3",
   "metadata": {},
   "source": [
    "### Visualizing the linear regression model"
   ]
  },
  {
   "cell_type": "code",
   "execution_count": 36,
   "id": "20af046d",
   "metadata": {},
   "outputs": [
    {
     "data": {
      "image/png": "[encoded data removed]",
      "text/plain": [
       "<Figure size 432x288 with 1 Axes>"
      ]
     },
     "metadata": {
      "needs_background": "light"
     },
     "output_type": "display_data"
    }
   ],
   "source": [
    "plt.scatter(X,y,color=\"red\")\n",
    "plt.plot(X, lr2.predict(X_poly))\n",
    "plt.title(\"Viewing the polynomial regression\")\n",
    "plt.xlabel(\"Levels\")\n",
    "plt.ylabel(\"Salaries\")\n",
    "plt.show()\n"
   ]
  },
  {
   "cell_type": "markdown",
   "id": "52f782ed",
   "metadata": {},
   "source": [
    "### `Predicting the linear regression"
   ]
  },
  {
   "cell_type": "code",
   "execution_count": 37,
   "id": "bc8ad174",
   "metadata": {},
   "outputs": [
    {
     "data": {
      "text/plain": [
       "array([209060.61])"
      ]
     },
     "execution_count": 37,
     "metadata": {},
     "output_type": "execute_result"
    }
   ],
   "source": [
    "lr_pred = lr1.predict([[5]])\n",
    "np.set_printoptions(precision=2)\n",
    "lr_pred"
   ]
  },
  {
   "cell_type": "markdown",
   "id": "2aec37d6",
   "metadata": {},
   "source": [
    "### Predicting the polynomial regression"
   ]
  },
  {
   "cell_type": "code",
   "execution_count": 38,
   "id": "4d1abdb2",
   "metadata": {},
   "outputs": [
    {
     "data": {
      "text/plain": [
       "array([121724.94])"
      ]
     },
     "execution_count": 38,
     "metadata": {},
     "output_type": "execute_result"
    }
   ],
   "source": [
    "poly_pred = lr2.predict(polynomial.transform([[5]]))\n",
    "np.set_printoptions(precision=2)\n",
    "poly_pred"
   ]
  },
  {
   "cell_type": "code",
   "execution_count": 39,
   "id": "a2612fa7",
   "metadata": {},
   "outputs": [
    {
     "data": {
      "text/plain": [
       "0.9973922891706614"
      ]
     },
     "execution_count": 39,
     "metadata": {},
     "output_type": "execute_result"
    }
   ],
   "source": [
    "from sklearn.metrics import r2_score\n",
    "r2_score(y,y_pred)"
   ]
  },
  {
   "cell_type": "code",
   "execution_count": null,
   "id": "8728aa62",
   "metadata": {},
   "outputs": [],
   "source": []
  }
 ],
 "metadata": {
  "kernelspec": {
   "display_name": "Python 3 (ipykernel)",
   "language": "python",
   "name": "python3"
  },
  "language_info": {
   "codemirror_mode": {
    "name": "ipython",
    "version": 3
   },
   "file_extension": ".py",
   "mimetype": "text/x-python",
   "name": "python",
   "nbconvert_exporter": "python",
   "pygments_lexer": "ipython3",
   "version": "3.9.12"
  }
 },
 "nbformat": 4,
 "nbformat_minor": 5
}
